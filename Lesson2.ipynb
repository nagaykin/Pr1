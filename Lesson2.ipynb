{
 "cells": [
  {
   "cell_type": "markdown",
   "metadata": {},
   "source": [
    "# Типы и списки\n",
    "* Типы\n",
    "* Списки"
   ]
  },
  {
   "cell_type": "code",
   "execution_count": 4,
   "metadata": {},
   "outputs": [
    {
     "name": "stdout",
     "output_type": "stream",
     "text": [
      "DIMA KULICHENKO КРУТОЙ ПЕРЕЙ ИЗ МОСКВЫ 10 20\n"
     ]
    }
   ],
   "source": [
    "my_string=\"dima kulichenko крутой перей из москвы 10 20\"\n",
    "upper_string=my_string.upper()\n",
    "print(upper_string)"
   ]
  },
  {
   "cell_type": "code",
   "execution_count": 25,
   "metadata": {},
   "outputs": [
    {
     "name": "stdout",
     "output_type": "stream",
     "text": [
      "Число символов :  44\n"
     ]
    }
   ],
   "source": [
    "print('Число символов : ',len(my_string))"
   ]
  },
  {
   "cell_type": "code",
   "execution_count": 26,
   "metadata": {},
   "outputs": [
    {
     "name": "stdout",
     "output_type": "stream",
     "text": [
      "С большойбуквы :  Dima kulichenko крутой перей из москвы 10 20\n"
     ]
    }
   ],
   "source": [
    "print('С большойбуквы : ',my_string.capitalize())"
   ]
  },
  {
   "cell_type": "code",
   "execution_count": 27,
   "metadata": {},
   "outputs": [
    {
     "name": "stdout",
     "output_type": "stream",
     "text": [
      "Замена :  dima kulichenko крутой перей из москвы 10 20\n"
     ]
    }
   ],
   "source": [
    "zam_str = my_string.replace('Dima','vasia')\n",
    "print('Замена : ',zam_str)"
   ]
  },
  {
   "cell_type": "code",
   "execution_count": 5,
   "metadata": {},
   "outputs": [
    {
     "name": "stdout",
     "output_type": "stream",
     "text": [
      "['dima', 'kulichenko', 'крутой', 'перей', 'из', 'москвы', '10', '20']\n"
     ]
    }
   ],
   "source": [
    "spis=my_string.split()\n",
    "print(spis)"
   ]
  },
  {
   "cell_type": "code",
   "execution_count": 6,
   "metadata": {},
   "outputs": [
    {
     "name": "stdout",
     "output_type": "stream",
     "text": [
      "Фамилия : kulichenko Имя:dima\n",
      "['крутой', 'перей', 'из', 'москвы', '10', '20']\n"
     ]
    }
   ],
   "source": [
    "i,f,*rem = spis\n",
    "print ('Фамилия : '+f+' Имя:'+i) #+' ремарка :'+rem\n",
    "print(rem)"
   ]
  },
  {
   "cell_type": "markdown",
   "metadata": {},
   "source": [
    "# 1 уровень\n",
    "## 2 уровень\n",
    "* 1\n",
    "* 2"
   ]
  },
  {
   "cell_type": "code",
   "execution_count": 7,
   "metadata": {},
   "outputs": [
    {
     "name": "stdout",
     "output_type": "stream",
     "text": [
      "['20', '10', 'москвы', 'из', 'перей', 'крутой']\n"
     ]
    }
   ],
   "source": [
    "#print(spis)\n",
    "b=rem[::-1]\n",
    "print(b)"
   ]
  },
  {
   "cell_type": "code",
   "execution_count": 12,
   "metadata": {},
   "outputs": [],
   "source": [
    "b.append(['ddd','ggg'])"
   ]
  },
  {
   "cell_type": "code",
   "execution_count": 13,
   "metadata": {},
   "outputs": [
    {
     "name": "stdout",
     "output_type": "stream",
     "text": [
      "['20', '10', 'москвы', 'из', 'перей', 'крутой', ['ddd', 'ggg']]\n"
     ]
    }
   ],
   "source": [
    "print(b)"
   ]
  },
  {
   "cell_type": "code",
   "execution_count": 16,
   "metadata": {},
   "outputs": [],
   "source": [
    "b.insert(0,['ddd','ggg'])"
   ]
  },
  {
   "cell_type": "code",
   "execution_count": 19,
   "metadata": {},
   "outputs": [
    {
     "name": "stdout",
     "output_type": "stream",
     "text": [
      "ddd\n"
     ]
    }
   ],
   "source": [
    "print(b[0][0])"
   ]
  },
  {
   "cell_type": "code",
   "execution_count": null,
   "metadata": {},
   "outputs": [],
   "source": []
  }
 ],
 "metadata": {
  "kernelspec": {
   "display_name": "Python 3",
   "language": "python",
   "name": "python3"
  },
  "language_info": {
   "codemirror_mode": {
    "name": "ipython",
    "version": 3
   },
   "file_extension": ".py",
   "mimetype": "text/x-python",
   "name": "python",
   "nbconvert_exporter": "python",
   "pygments_lexer": "ipython3",
   "version": "3.8.3"
  }
 },
 "nbformat": 4,
 "nbformat_minor": 4
}
